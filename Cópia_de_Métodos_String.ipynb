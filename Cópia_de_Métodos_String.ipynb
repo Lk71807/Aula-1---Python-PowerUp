{
  "nbformat": 4,
  "nbformat_minor": 0,
  "metadata": {
    "colab": {
      "provenance": [],
      "include_colab_link": true
    },
    "kernelspec": {
      "name": "python3",
      "display_name": "Python 3"
    },
    "language_info": {
      "name": "python"
    }
  },
  "cells": [
    {
      "cell_type": "markdown",
      "metadata": {
        "id": "view-in-github",
        "colab_type": "text"
      },
      "source": [
        "<a href=\"https://colab.research.google.com/github/Lk71807/Aula-1---Python-PowerUp/blob/main/C%C3%B3pia_de_M%C3%A9todos_String.ipynb\" target=\"_parent\"><img src=\"https://colab.research.google.com/assets/colab-badge.svg\" alt=\"Open In Colab\"/></a>"
      ]
    },
    {
      "cell_type": "markdown",
      "source": [
        "##Criação de Strings##"
      ],
      "metadata": {
        "id": "Jq3WfWbF6SZD"
      }
    },
    {
      "cell_type": "code",
      "source": [
        "# Strings podem ser criadas usandos aspas simples ou duplas\n",
        "s1 = 'Hello, World!'\n",
        "s2 = \"Hello, World!\"\n",
        "\n",
        "# Strings de múltiplas linhas usando três aspas simples ou duplas\n",
        "s3 = ''' Essa é minha frase\n",
        "contendo múltiplas linhas\n",
        "na mesma variáveis '''\n",
        "\n",
        "s4 = \"\"\" Essa é minha frase\n",
        "contendo múltiplas linhas\n",
        "na mesma variáveis \"\"\"\n",
        "\n",
        "\n",
        "\n",
        "\n",
        "\n",
        "\n"
      ],
      "metadata": {
        "id": "cEqCcY7m6WhJ"
      },
      "execution_count": null,
      "outputs": []
    },
    {
      "cell_type": "markdown",
      "source": [
        "##Acessando Caracteres e Substrings##"
      ],
      "metadata": {
        "id": "mB04FAzp8tIL"
      }
    },
    {
      "cell_type": "code",
      "source": [
        "s = \"Hello, World!\"\n",
        "\n",
        "#Acessar um caractere\n",
        "print(s[0])\n",
        "print(s[-1])\n",
        "\n",
        "#Acessar uma substring\n",
        "print(s[0:5]) # acessa a substring do início até o índice 5 (excluindo o 5).\n",
        "print(s[7:])  # acessa a substring do índice 7 até o final da string.\n",
        "print(s[:5])  # acessa a substring do início até o índice 5 (excluindo o 5)."
      ],
      "metadata": {
        "colab": {
          "base_uri": "https://localhost:8080/"
        },
        "id": "zsEMm_QR8422",
        "outputId": "0c4d23d7-208b-4fef-d867-ee764b66dc11"
      },
      "execution_count": null,
      "outputs": [
        {
          "output_type": "stream",
          "name": "stdout",
          "text": [
            "H\n",
            "!\n",
            "Hello\n",
            "World!\n",
            "Hello\n"
          ]
        }
      ]
    },
    {
      "cell_type": "markdown",
      "source": [
        "##Métodos Comuns de Strings##"
      ],
      "metadata": {
        "id": "WDhW98o0-5x8"
      }
    },
    {
      "cell_type": "markdown",
      "source": [
        "**len()** - Retorna o comprimento da string"
      ],
      "metadata": {
        "id": "EzgZD3li-_s-"
      }
    },
    {
      "cell_type": "code",
      "source": [
        "s = \"Essa é minha frase contendo múltiplas linhas na mesma variáveis \"\n",
        "print(len(s))\n"
      ],
      "metadata": {
        "colab": {
          "base_uri": "https://localhost:8080/"
        },
        "id": "RQKmRj8d_Gud",
        "outputId": "104e6b6e-5681-46ef-b781-bc4ac874e909"
      },
      "execution_count": null,
      "outputs": [
        {
          "output_type": "stream",
          "name": "stdout",
          "text": [
            "64\n"
          ]
        }
      ]
    },
    {
      "cell_type": "markdown",
      "source": [
        "**lower()** - Converter todos os caracteres da string para minúsculas."
      ],
      "metadata": {
        "id": "g45I0qFn_3tW"
      }
    },
    {
      "cell_type": "code",
      "source": [
        "s = \"Essa é minha frase contendo múltiplas linhas na mesma variáveis \"\n",
        "print(s.lower())"
      ],
      "metadata": {
        "colab": {
          "base_uri": "https://localhost:8080/"
        },
        "collapsed": true,
        "id": "ctauGvLZAC66",
        "outputId": "0830b0dd-177d-4ae4-82f4-0c8b6fbbe933"
      },
      "execution_count": null,
      "outputs": [
        {
          "output_type": "stream",
          "name": "stdout",
          "text": [
            "essa é minha frase contendo múltiplas linhas na mesma variáveis \n"
          ]
        }
      ]
    },
    {
      "cell_type": "markdown",
      "source": [
        "**upper()** - Converter todos os caracteres da string para maiúsculas."
      ],
      "metadata": {
        "id": "0YE4oE4aAXHL"
      }
    },
    {
      "cell_type": "code",
      "source": [
        "s = input(\"Digite uma frase: \")\n",
        "print(s)\n",
        "print(s.upper())\n",
        "print(s)\n",
        "\n",
        "s2 = input(\"Digite uma frase: \").upper()\n",
        "print(s2)"
      ],
      "metadata": {
        "colab": {
          "base_uri": "https://localhost:8080/"
        },
        "collapsed": true,
        "id": "ul8w76hGAdHV",
        "outputId": "8fc64e1f-e3ec-4716-d0f4-472b36fba641"
      },
      "execution_count": null,
      "outputs": [
        {
          "output_type": "stream",
          "name": "stdout",
          "text": [
            "Digite uma frase: minha frase\n",
            "minha frase\n",
            "MINHA FRASE\n",
            "minha frase\n",
            "Digite uma frase: minha frase\n",
            "MINHA FRASE\n"
          ]
        }
      ]
    },
    {
      "cell_type": "markdown",
      "source": [
        "**strip()** - Remove espaços em branco do início e do fim de uma string"
      ],
      "metadata": {
        "id": "IHjK9AqeB3h-"
      }
    },
    {
      "cell_type": "code",
      "source": [
        "s = input(\"Digite uma frase: \")\n",
        "print(len(s))\n",
        "s = s.strip()\n",
        "print(len(s))\n",
        "\n",
        "\n",
        "s2 = input(\"Digite uma frase: \").strip()\n",
        "print(len(s))\n"
      ],
      "metadata": {
        "colab": {
          "base_uri": "https://localhost:8080/"
        },
        "collapsed": true,
        "id": "vwxW5codGJcn",
        "outputId": "c0c970a0-fc02-462c-acbb-71db35e6eb86"
      },
      "execution_count": null,
      "outputs": [
        {
          "output_type": "stream",
          "name": "stdout",
          "text": [
            "Digite uma frase:  minha frase de efeito       \n",
            "29\n",
            "21\n",
            "Digite uma frase:  minha frase de efeito       \n",
            "21\n"
          ]
        }
      ]
    },
    {
      "cell_type": "markdown",
      "source": [
        "**split()** - Divide a string em uma lista de substrings com base em um delimitador"
      ],
      "metadata": {
        "id": "-xRVgL49IC7H"
      }
    },
    {
      "cell_type": "code",
      "source": [
        "import re\n",
        "\n",
        "s = input(\"Digite uma frase: \")\n",
        "print (s.split())\n",
        "print (s.split('-'))\n",
        "\n",
        "s.upper()\n",
        "resultado = re.split(r'[ ,]', s)\n",
        "print(resultado)\n"
      ],
      "metadata": {
        "colab": {
          "base_uri": "https://localhost:8080/"
        },
        "collapsed": true,
        "id": "b0Ka2MO6IeST",
        "outputId": "0508a509-8d4d-40bd-92a0-c90fdc49a0bd"
      },
      "execution_count": null,
      "outputs": [
        {
          "output_type": "stream",
          "name": "stdout",
          "text": [
            "Digite uma frase: Hello, World!\n",
            "['Hello,', 'World!']\n",
            "['Hello, World!']\n",
            "['Hello', '', 'World!']\n"
          ]
        }
      ]
    },
    {
      "cell_type": "markdown",
      "source": [
        "**replace()** - substitui as ocorrências de uma string por outra substring"
      ],
      "metadata": {
        "id": "okM3K2u5Kjes"
      }
    },
    {
      "cell_type": "code",
      "source": [
        "s = \"Hello, World!\"\n",
        "print(s.replace('World', 'Python'))"
      ],
      "metadata": {
        "colab": {
          "base_uri": "https://localhost:8080/"
        },
        "id": "uVoOXGGGKqt0",
        "outputId": "75014883-01eb-4a3a-b845-40742ec41ed5"
      },
      "execution_count": null,
      "outputs": [
        {
          "output_type": "stream",
          "name": "stdout",
          "text": [
            "Hello, Python!\n"
          ]
        }
      ]
    },
    {
      "cell_type": "markdown",
      "source": [
        "**join()** - Une uma lista de strings em uma única string usando delimitador"
      ],
      "metadata": {
        "id": "R7SO31QzLB63"
      }
    },
    {
      "cell_type": "code",
      "source": [
        "words = [\"Hello\", \"World\", \"Python\"]\n",
        "print (' '.join(words))\n",
        "print (', '.join(words))\n"
      ],
      "metadata": {
        "colab": {
          "base_uri": "https://localhost:8080/"
        },
        "collapsed": true,
        "id": "tn8VgqL7LLlE",
        "outputId": "483b39a7-c0e8-484a-94b1-17c8dcce86c0"
      },
      "execution_count": null,
      "outputs": [
        {
          "output_type": "stream",
          "name": "stdout",
          "text": [
            "Hello World Python\n",
            "Hello, World, Python\n"
          ]
        }
      ]
    },
    {
      "cell_type": "markdown",
      "source": [
        "**find()** - Retorna o indice da primeira ocorrência ou -1 se não encontrar"
      ],
      "metadata": {
        "id": "7swV2OubLtVv"
      }
    },
    {
      "cell_type": "code",
      "source": [
        "s = \"Hello, World!\"\n",
        "print(s.find('World'))\n",
        "print(s.find('Python'))"
      ],
      "metadata": {
        "colab": {
          "base_uri": "https://localhost:8080/"
        },
        "id": "vKzc4ZHpL5EM",
        "outputId": "ef4bf385-623b-4c85-f807-bc2eaba6040b"
      },
      "execution_count": null,
      "outputs": [
        {
          "output_type": "stream",
          "name": "stdout",
          "text": [
            "7\n",
            "-1\n"
          ]
        }
      ]
    },
    {
      "cell_type": "markdown",
      "source": [
        "**count()** - Conta o número de ocorrências de uma substring"
      ],
      "metadata": {
        "id": "X4zMT2p9MIs5"
      }
    },
    {
      "cell_type": "code",
      "source": [
        "s = \"Hello, World, Hello!\"\n",
        "print(s.count('Hello'))"
      ],
      "metadata": {
        "colab": {
          "base_uri": "https://localhost:8080/"
        },
        "id": "9HrDaifoMQc9",
        "outputId": "99e1c9e3-d889-4830-add8-cbffb745be1e"
      },
      "execution_count": null,
      "outputs": [
        {
          "output_type": "stream",
          "name": "stdout",
          "text": [
            "2\n"
          ]
        }
      ]
    },
    {
      "cell_type": "markdown",
      "source": [
        "**startswith() e endswith()** - Verifica se a string começa ou termina com uma determina substring"
      ],
      "metadata": {
        "id": "BksUpLFSMxV0"
      }
    },
    {
      "cell_type": "code",
      "source": [
        "s = \"Hello, World, Hello!\"\n",
        "\n",
        "print(s.startswith('Hello'))\n",
        "print(s.endswith('!'))"
      ],
      "metadata": {
        "colab": {
          "base_uri": "https://localhost:8080/"
        },
        "id": "c76qN-3wNFgQ",
        "outputId": "c8a2562d-ed64-4af2-b8f6-8602086e4668"
      },
      "execution_count": null,
      "outputs": [
        {
          "output_type": "stream",
          "name": "stdout",
          "text": [
            "True\n",
            "True\n"
          ]
        }
      ]
    },
    {
      "cell_type": "markdown",
      "source": [
        "**Técnica Slicing** - fatiamento de uma string"
      ],
      "metadata": {
        "id": "G1InZJZ5kPr3"
      }
    },
    {
      "cell_type": "code",
      "source": [
        "#sequencia[inicio:fim:passo]\n",
        "#inicio: índice onde o fatiamento começa (inclusivo). Se omitido, o padrão é o início da sequência.\n",
        "#fim: índice onde o fatiamento termina (exclusivo). Se omitido, o padrão é o final da sequência.\n",
        "#passo: tamanho do passo ou incremento entre índices. Se omitido, o padrão é 1.\n",
        "s = input(\"Digite uma frase: \")\n",
        "print(s)\n",
        "\n",
        "#Inverter uma string usando slicing\n",
        "x = s[::-1] # O slicing [::-1] começa do início até o final da sequência, mas com um passo de -1, o que inverte a string.\n",
        "# y = s[0:5:2]\n",
        "print(x)"
      ],
      "metadata": {
        "colab": {
          "base_uri": "https://localhost:8080/"
        },
        "id": "mJocp-PwkiEu",
        "outputId": "5e250bfe-2afb-403a-e72a-2358a8816440"
      },
      "execution_count": null,
      "outputs": [
        {
          "output_type": "stream",
          "name": "stdout",
          "text": [
            "Digite uma frase: Hello World\n",
            "Hello World\n",
            "Hlo\n"
          ]
        }
      ]
    }
  ]
}