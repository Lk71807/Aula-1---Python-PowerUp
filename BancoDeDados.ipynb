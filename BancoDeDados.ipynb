{
  "nbformat": 4,
  "nbformat_minor": 0,
  "metadata": {
    "colab": {
      "provenance": [],
      "include_colab_link": true
    },
    "kernelspec": {
      "name": "python3",
      "display_name": "Python 3"
    },
    "language_info": {
      "name": "python"
    }
  },
  "cells": [
    {
      "cell_type": "markdown",
      "metadata": {
        "id": "view-in-github",
        "colab_type": "text"
      },
      "source": [
        "<a href=\"https://colab.research.google.com/github/Lk71807/Aula-1---Python-PowerUp/blob/main/BancoDeDados.ipynb\" target=\"_parent\"><img src=\"https://colab.research.google.com/assets/colab-badge.svg\" alt=\"Open In Colab\"/></a>"
      ]
    },
    {
      "cell_type": "markdown",
      "source": [
        "#Fundamentos de Banco de Dados\n",
        "\n",
        "**Banco de Dados:** Um banco de dados é uma coleção organizada de dados que podem ser acessados, gerenciados e atualizados. O objetivo principal de um banco de dados é armazenar informações de maneira estruturada e eficiente, permitindo a recuperação rápida e precisa dos dados.\n",
        "\n",
        "**Modelagem de Dados:** A modelagem de dados é o processo de criar uma representação abstrata do sistema de dados. Isso envolve a definição das entidades (objetos), atributos (propriedades) e os relacionamentos entre as entidades. A modelagem de dados é fundamental porque permite visualizar a estrutura dos dados antes de implementá-los no banco de dados.\n",
        "\n",
        "##Existem três níveis de modelagem:\n",
        "\n",
        "**Modelagem Conceitual:** Foca em representar o que o sistema de dados fará, usando modelos ER (Entidade-Relacionamento), que ajudam a definir as entidades, atributos e relações.\n",
        "\n",
        "**Modelagem Lógica:** Transforma o modelo conceitual em um formato que pode ser implementado em um Sistema de Gerenciamento de Banco de Dados (SGBD), definindo tipos de dados e restrições.\n",
        "\n",
        "**Modelagem Física:** Concentra-se na implementação real do modelo lógico no banco de dados, otimizando o desempenho com técnicas de indexação, particionamento e design físico.\n",
        "\n",
        "**SGBDs (Sistemas de Gerenciamento de Banco de Dados):** Um SGBD é um software que permite a criação, gerenciamento e manipulação de bancos de dados. Ele fornece ferramentas para definir, consultar, atualizar e gerenciar dados em grande escala. Alguns exemplos populares de SGBDs incluem:\n",
        "\n",
        "**MySQL:** SGBD de código aberto amplamente utilizado para aplicações web.\n",
        "**PostgreSQL:** Um SGBD de código aberto com suporte avançado para dados relacionais e não-relacionais.\n",
        "**Oracle Database:** Um SGBD comercial robusto usado em grandes corporações.\n",
        "**SQL Server:** SGBD da Microsoft, usado em ambientes corporativos."
      ],
      "metadata": {
        "id": "1FktzuhfGa3C"
      }
    },
    {
      "cell_type": "markdown",
      "source": [
        "#Linguagem SQL\n",
        "\n",
        "**SQL (Structured Query Language):** SQL é a linguagem padrão usada para interagir com bancos de dados relacionais. Ela permite realizar várias operações, como consultar dados, inserir novos registros, atualizar informações e excluir dados.\n",
        "\n",
        "##A SQL é dividida em várias sub-linguagens:\n",
        "\n",
        "**DDL (Data Definition Language):** Usada para definir e modificar a estrutura do banco de dados. (CREATE, ALTER, DROP)\n",
        "\n",
        "**DML (Data Manipulation Language):** Usada para manipular dados dentro das tabelas. (SELECT, INSERT, UPDATE, DELETE)"
      ],
      "metadata": {
        "id": "O5uY3TjpIMTZ"
      }
    },
    {
      "cell_type": "markdown",
      "source": [
        "#Criar Banco de Dados no BigQuery via Colab\n",
        "\n"
      ],
      "metadata": {
        "id": "TVIuMgX8ONoD"
      }
    },
    {
      "cell_type": "code",
      "source": [
        "# Importações\n",
        "from google.cloud import bigquery\n",
        "from google.colab import auth\n",
        "\n",
        "# Autenticar no Google Cloud\n",
        "auth.authenticate_user()\n",
        "\n",
        "# Definir o ID do projeto Google Cloud\n",
        "project_id = \"soulcode-analise\" # Substitua pelo Id do seu projeto no Google Cloud\n",
        "\n",
        "# Criar um cliente para o BigQuery\n",
        "client = bigquery.Client(project=project_id)\n",
        "\n",
        "# Configurações do dataset (banco de dados)\n",
        "dataset_ref = client.dataset('soulcode_bd') # Nome  do dataset chamado 'soulcode_bd'\n",
        "dataset = bigquery.Dataset(dataset_ref)\n",
        "dataset.location = 'US' # Substituir pela localização preferida\n",
        "\n",
        "# Criar o Dataset\n",
        "try:\n",
        "  dataset = client.create_dataset(dataset) # Cria o dataset\n",
        "  print(f\"Dataset {dataset.dataset_id} criado com sucesso!\")\n",
        "except Exception as e:\n",
        "  print(f\"Ocorreu um erro: {e}\")\n",
        "\n"
      ],
      "metadata": {
        "colab": {
          "base_uri": "https://localhost:8080/"
        },
        "id": "ryC9n65SOUJv",
        "outputId": "52a2e01d-4d6c-4aed-9e10-b4ded850c9eb"
      },
      "execution_count": null,
      "outputs": [
        {
          "output_type": "stream",
          "name": "stdout",
          "text": [
            "Dataset soulcode_bd criado com sucesso!\n"
          ]
        }
      ]
    },
    {
      "cell_type": "markdown",
      "source": [
        "#Criar Tabelas Dentro do DataSet no BigQuery via Colab\n",
        "\n",
        "**Esquema Relacional**\n",
        "\n",
        "Departamento (numdepto, nome)\n",
        "\n",
        "Empregado (matricula, nome, salario, numdepto)"
      ],
      "metadata": {
        "id": "xFiH9WlCVIFQ"
      }
    },
    {
      "cell_type": "code",
      "source": [
        "#Criando a tabela Departamento\n",
        "\n",
        "from google.cloud import bigquery\n",
        "\n",
        "# Definir o ID do projeto Google Cloud\n",
        "project_id = \"soulcode-analise\" # Substitua pelo Id do seu projeto no Google Cloud\n",
        "\n",
        "# Criar um cliente para o BigQuery\n",
        "client = bigquery.Client(project=project_id)\n",
        "\n",
        "# Referenciar o dataset\n",
        "dataset_id = 'soulcode_bd' # Nome do dataset criado dentro do Bigquery\n",
        "dataset_ref = client.dataset(dataset_id)\n",
        "\n",
        "#Definir o esquema para a tabela Departamento\n",
        "schema_departamento = [\n",
        "    bigquery.SchemaField(\"numdepto\", \"INTEGER\", mode=\"REQUIRED\"), #Número do departamento\n",
        "    bigquery.SchemaField(\"nome\", \"STRING\", mode=\"REQUIRED\"), #Nome do departamento\n",
        "]\n",
        "#Criar a tabela departamento com numdepto como chave única (equivalente chave primária)\n",
        "table_id_departamento = f\"{project_id}.{dataset_id}.departamento\" # soulcode-analise.soulcode_bd.departamento\n",
        "table_departamento = bigquery.Table(table_id_departamento, schema=schema_departamento)\n",
        "\n",
        "try:\n",
        "  table_departamento = client.create_table(table_departamento) # Cria a tabela\n",
        "  print(f\"Tabela {table_departamento.table_id} criada com sucesso!\")\n",
        "except Exception as e:\n",
        "  print(f\"Ocorreu um erro: {e}\")"
      ],
      "metadata": {
        "colab": {
          "base_uri": "https://localhost:8080/"
        },
        "id": "FMT1jtRAVWtS",
        "outputId": "76642cfb-3a56-41f9-c7dc-2ed1066c01c4"
      },
      "execution_count": null,
      "outputs": [
        {
          "output_type": "stream",
          "name": "stdout",
          "text": [
            "Tabela departamento criada com sucesso!\n"
          ]
        }
      ]
    },
    {
      "cell_type": "code",
      "source": [
        "#Criando a tabela Empregado\n",
        "\n",
        "from google.cloud import bigquery\n",
        "\n",
        "# Definir o ID do projeto Google Cloud\n",
        "project_id = \"soulcode-analise\" # Substitua pelo Id do seu projeto no Google Cloud\n",
        "\n",
        "# Criar um cliente para o BigQuery\n",
        "client = bigquery.Client(project=project_id)\n",
        "\n",
        "# Referenciar o dataset\n",
        "dataset_id = 'soulcode_bd' # Nome do dataset criado dentro do Bigquery\n",
        "dataset_ref = client.dataset(dataset_id)\n",
        "\n",
        "# Definir o esquema para a tabela empregado\n",
        "schema_empregado = [\n",
        "    bigquery.SchemaField(\"matricula\", \"INTEGER\", mode=\"REQUIRED\"),  # Matrícula do empregado\n",
        "    bigquery.SchemaField(\"nome\", \"STRING\", mode=\"REQUIRED\"),  # Nome do empregado\n",
        "    bigquery.SchemaField(\"salario\", \"FLOAT\", mode=\"REQUIRED\"),  # Salário do empregado\n",
        "    bigquery.SchemaField(\"numdepto\", \"INTEGER\", mode=\"REQUIRED\"),  # Chave estrangeira para o departamento\n",
        "]\n",
        "\n",
        "# Criar a tabela empregado com matricula como chave primária (único e obrigatório)\n",
        "table_id_empregado = f\"{project_id}.{dataset_id}.empregado\"\n",
        "table_empregado = bigquery.Table(table_id_empregado, schema=schema_empregado)\n",
        "\n",
        "try:\n",
        "    table_empregado = client.create_table(table_empregado)  # Cria a tabela\n",
        "    print(f\"Tabela {table_empregado.table_id} criada com sucesso!\")\n",
        "except Exception as e:\n",
        "    print(f\"Ocorreu um erro ao criar a tabela empregado: {e}\")"
      ],
      "metadata": {
        "colab": {
          "base_uri": "https://localhost:8080/"
        },
        "id": "ef3GLW1xbypL",
        "outputId": "7ce01a84-40d8-4896-8934-81aedc26c966"
      },
      "execution_count": null,
      "outputs": [
        {
          "output_type": "stream",
          "name": "stdout",
          "text": [
            "Tabela empregado criada com sucesso!\n"
          ]
        }
      ]
    },
    {
      "cell_type": "markdown",
      "source": [
        "#Codigos SQL para rodar no BigQuery"
      ],
      "metadata": {
        "id": "6SUNT492Dcyl"
      }
    },
    {
      "cell_type": "code",
      "source": [
        "-- CREATE TABLE IF NOT EXISTS `soulcode-analise.soulcode_bd.departamento2`(\n",
        "--   numdepto INT64 NOT NULL,\n",
        "--   nome STRING NOT NULL\n",
        "-- );\n",
        "\n",
        "-- CREATE TABLE IF NOT EXISTS `soulcode-analise.soulcode_bd.empregado2`(\n",
        "--   matricula INT64 NOT NULL,\n",
        "--   nome STRING NOT NULL,\n",
        "--   salario FLOAT64 NOT NULL,\n",
        "--   numdepto INT64 NOT NULL\n",
        "-- )\n",
        "\n",
        "\n",
        "-- DROP TABLE `soulcode-analise.soulcode_bd.departamento2`\n",
        "-- DROP SCHEMA `soulcode-analise.soulcode_bd`\n",
        "\n",
        "\n",
        "-- RENOMEAR UMA COLUNA\n",
        "-- ALTER TABLE `soulcode-analise.soulcode_bd.departamento` RENAME COLUMN nome TO nome_depto\n",
        "\n",
        "-- ALTER TABLE `soulcode-analise.soulcode_bd.departamento` RENAME COLUMN nome_depto TO descricao\n",
        "\n",
        "\n",
        "-- PRODUTO (codigo, nome, preco, marca, descricao)\n",
        "CREATE TABLE IF NOT EXISTS `soulcode-analise.soulcode_bd.produto`(\n",
        "  codigo INT64 NOT NULL,\n",
        "  nome STRING NOT NULL,\n",
        "  preco FLOAT64 NOT NULL,\n",
        "  marca STRING,\n",
        "  descricao STRING NOT NULL\n",
        ")\n",
        "\n",
        "\n",
        "\n",
        "SELECT nome, salario FROM `soulcode-analise.soulcode_bd.empregado` where salario >= 7000;\n",
        "\n",
        "\n",
        "--INSERIR REGISTROS NA TABELA EMPREGADO\n",
        "\n",
        "-- INSERT INTO `soulcode-analise.soulcode_bd.empregado` (matricula, nome, salario, numdepto) VALUES\n",
        "-- (10, 'Adriana Gonçalves', 6000, 99),\n",
        "-- (5, 'Luan Cardoso', 5000, 99),\n",
        "-- (11, 'Jaqueline', 120000, 1),\n",
        "-- (1, 'Carlos Lima', 7000, 1)\n",
        "\n",
        "\n",
        "\n",
        "\n",
        "\n"
      ],
      "metadata": {
        "id": "rAYjwLp3DiPn"
      },
      "execution_count": null,
      "outputs": []
    }
  ]
}