{
  "nbformat": 4,
  "nbformat_minor": 0,
  "metadata": {
    "colab": {
      "provenance": [],
      "include_colab_link": true
    },
    "kernelspec": {
      "name": "python3",
      "display_name": "Python 3"
    },
    "language_info": {
      "name": "python"
    }
  },
  "cells": [
    {
      "cell_type": "markdown",
      "metadata": {
        "id": "view-in-github",
        "colab_type": "text"
      },
      "source": [
        "<a href=\"https://colab.research.google.com/github/Lk71807/Aula-1---Python-PowerUp/blob/main/C%C3%B3pia_de_Funcoes.ipynb\" target=\"_parent\"><img src=\"https://colab.research.google.com/assets/colab-badge.svg\" alt=\"Open In Colab\"/></a>"
      ]
    },
    {
      "cell_type": "markdown",
      "source": [
        "##Funções em Python##"
      ],
      "metadata": {
        "id": "4zu_ThXNjRug"
      }
    },
    {
      "cell_type": "markdown",
      "source": [
        "**Definição:** - um bloco de código que realiza uma tarefa específica e que pode ser reutilizada em diferentes partes do programa."
      ],
      "metadata": {
        "id": "GHw8StZejWkb"
      }
    },
    {
      "cell_type": "markdown",
      "source": [
        "**Estrutura básica de uma função:**"
      ],
      "metadata": {
        "id": "TwJ_ZfbEjxOo"
      }
    },
    {
      "cell_type": "code",
      "source": [
        "# def nome_da_funcao(parametros_opcionais):\n",
        "#   #Bloco de código da função\n",
        "#   return opcional_valor"
      ],
      "metadata": {
        "id": "wiZSTSQCj16q"
      },
      "execution_count": null,
      "outputs": []
    },
    {
      "cell_type": "markdown",
      "source": [
        "**Funções SEM PARÂMETROS** - não recebem nenhum valor de entrada. Executam uma tarefa e, opcionalmente, podem retornar algum valor.*texto em itálico*"
      ],
      "metadata": {
        "id": "HMFs8cTGkI3X"
      }
    },
    {
      "cell_type": "code",
      "source": [
        "#Criando uma função sem parâmetro\n",
        "def saudacao():\n",
        "  print(\"Hello, World!\")\n",
        "\n",
        "#Chamando a função (uso)\n",
        "saudacao()\n",
        "\n",
        "#Outra função\n",
        "def obter_dia():\n",
        "  return \"Segunda-Feira\"\n",
        "\n",
        "#Chamando função\n",
        "print(obter_dia())\n",
        "\n",
        "#Outra forma de chamar a função\n",
        "dia = obter_dia()\n",
        "print(f\"Hoje é {dia}\")"
      ],
      "metadata": {
        "colab": {
          "base_uri": "https://localhost:8080/"
        },
        "id": "XACrFX1xkXoF",
        "outputId": "ca357e74-4e44-4472-9a98-00487ba070b1"
      },
      "execution_count": null,
      "outputs": [
        {
          "output_type": "stream",
          "name": "stdout",
          "text": [
            "Hello, World!\n",
            "Segunda-Feira\n",
            "Hoje é Segunda-Feira\n"
          ]
        }
      ]
    },
    {
      "cell_type": "markdown",
      "source": [
        "**Observações - Uso do print ou do return:** -"
      ],
      "metadata": {
        "id": "SvgvcAQAmHAP"
      }
    },
    {
      "cell_type": "markdown",
      "source": [
        "***print:*** - usado para exibir uma mensagem ou algum valor de uma variável na saída PADRÃO. Usamos quando queremos mostrar algo na tela.\n"
      ],
      "metadata": {
        "id": "LW32oL4SmSxL"
      }
    },
    {
      "cell_type": "code",
      "source": [
        "#Criando uma função sem parâmetro\n",
        "def saudacao():\n",
        "  print(\"Hello, World!\")\n",
        "\n",
        "#Chamando a função (uso)\n",
        "saudacao()\n"
      ],
      "metadata": {
        "id": "uBSS00WXmrh6"
      },
      "execution_count": null,
      "outputs": []
    },
    {
      "cell_type": "markdown",
      "source": [
        "***return:*** - usado para enviar um valor de volta ao CHAMADOR DA FUNÇÃO. Ele encerra a execução da função e passa o controle(e o valor) de volta para o código que chamou a função. Usamos quando precisa-se que a função devolva um valor que pode ser utilizado posteriormente em outra parte do programa."
      ],
      "metadata": {
        "id": "Cr2jI5Nvmytc"
      }
    },
    {
      "cell_type": "code",
      "source": [
        "def calcular_area(largura, altura):\n",
        "  area = largura * altura\n",
        "  return area\n",
        "\n",
        "print(calcular_area(5,4))\n",
        "\n",
        "#Uso combinado\n",
        "def calcular_area(largura, altura):\n",
        "  area = largura * altura\n",
        "  print(f\"A área é {area} metros quadrados\")\n",
        "  return area\n",
        "x = 10\n",
        "y = 20\n",
        "print(calcular_area(x,y))\n",
        "calcular_area(x,y)\n"
      ],
      "metadata": {
        "colab": {
          "base_uri": "https://localhost:8080/"
        },
        "id": "fSH87QkenXFW",
        "outputId": "7caa07d2-1a31-46d5-d94d-7a9443dcf72a"
      },
      "execution_count": null,
      "outputs": [
        {
          "output_type": "stream",
          "name": "stdout",
          "text": [
            "20\n",
            "A área é 200 metros quadrados\n",
            "200\n",
            "A área é 200 metros quadrados\n"
          ]
        },
        {
          "output_type": "execute_result",
          "data": {
            "text/plain": [
              "200"
            ]
          },
          "metadata": {},
          "execution_count": 10
        }
      ]
    },
    {
      "cell_type": "code",
      "source": [
        "# def calcular_area(largura=0, altura=0):\n",
        "#   area = largura * altura\n",
        "#   return area\n",
        "\n",
        "# print(calcular_area())\n",
        "\n",
        "# outro exemplo\n",
        "def calcular_area2(largura, altura):\n",
        "  x = largura\n",
        "  y = altura\n",
        "  area = x * y\n",
        "  return  area\n",
        "\n",
        "print(calcular_area2(5,7))"
      ],
      "metadata": {
        "colab": {
          "base_uri": "https://localhost:8080/"
        },
        "id": "L8QaFe3epyf5",
        "outputId": "7440b2ef-ca43-4340-adc8-eb0aa930c2c3"
      },
      "execution_count": null,
      "outputs": [
        {
          "output_type": "stream",
          "name": "stdout",
          "text": [
            "35\n"
          ]
        }
      ]
    },
    {
      "cell_type": "markdown",
      "source": [
        "**Funções COM PARÂMETROS** - recebem valores de entrada que podem ser usados dentro da função."
      ],
      "metadata": {
        "id": "o8Im6bZArkiI"
      }
    },
    {
      "cell_type": "code",
      "source": [
        "def exibir_mensagem(nome):\n",
        "  print(f\"Olá, {nome}! Bem-vindo ao sistema.\")\n",
        "\n",
        "exibir_mensagem(\"Israel\")"
      ],
      "metadata": {
        "colab": {
          "base_uri": "https://localhost:8080/"
        },
        "id": "WKm8bJsBrzhZ",
        "outputId": "a2c2877d-aca5-4cae-b19d-1783eb69346f"
      },
      "execution_count": null,
      "outputs": [
        {
          "output_type": "stream",
          "name": "stdout",
          "text": [
            "Olá, Israel! Bem-vindo ao sistema.\n"
          ]
        }
      ]
    },
    {
      "cell_type": "code",
      "source": [
        "def soma(a,b):\n",
        "  return a+b\n",
        "\n",
        "resultado = soma(10,20)\n",
        "print(f\"O resultado da soma é {resultado}\")"
      ],
      "metadata": {
        "colab": {
          "base_uri": "https://localhost:8080/"
        },
        "id": "87p5xsLNsKbp",
        "outputId": "975bb4be-c98a-4a3d-913b-c35cdf9b6a11"
      },
      "execution_count": null,
      "outputs": [
        {
          "output_type": "stream",
          "name": "stdout",
          "text": [
            "O resultado da soma é 30\n"
          ]
        }
      ]
    },
    {
      "cell_type": "code",
      "source": [
        "def saudacao(nome=\"Visitante\"):\n",
        "    print(f\"Olá, {nome}!\")\n",
        "\n",
        "saudacao(\"Douglas\")"
      ],
      "metadata": {
        "colab": {
          "base_uri": "https://localhost:8080/"
        },
        "id": "Rp4xngJZsbvb",
        "outputId": "bc779ff1-55dd-4189-a387-9f90eed6ea08"
      },
      "execution_count": null,
      "outputs": [
        {
          "output_type": "stream",
          "name": "stdout",
          "text": [
            "Olá, Douglas!\n"
          ]
        }
      ]
    },
    {
      "cell_type": "markdown",
      "source": [
        "**Uso do *args** - Parâmetros posicionais"
      ],
      "metadata": {
        "id": "iDfsrqkMxQVy"
      }
    },
    {
      "cell_type": "code",
      "source": [
        "def somar_varios(*numeros):\n",
        "  return sum(numeros)\n",
        "\n",
        "resultado = somar_varios(1,2,5,8,99,10,99,-10)\n",
        "print(resultado)"
      ],
      "metadata": {
        "id": "EQHLm7ypxgh4"
      },
      "execution_count": null,
      "outputs": []
    },
    {
      "cell_type": "markdown",
      "source": [
        "**Uso do *kwargs** - Parâmetros Nomeados"
      ],
      "metadata": {
        "id": "q_nQznn0xl37"
      }
    },
    {
      "cell_type": "code",
      "source": [
        "def exibir_informacoes(**info):\n",
        "  for chave, valor in info.items():\n",
        "    print(f\"{chave}: {valor}\")\n",
        "\n",
        "exibir_informacoes(nome=\"Ana\", idade=28, cidade=\"São paulo\")\n",
        "\n",
        "dicionario = {\n",
        "    'nome':\"Ana\",\n",
        "    'idade':28,\n",
        "    'cidade':\"São paulo\"\n",
        "}\n",
        "exibir_informacoes(**dicionario)"
      ],
      "metadata": {
        "colab": {
          "base_uri": "https://localhost:8080/"
        },
        "id": "X76AZ-7fxsE9",
        "outputId": "27262fa9-163c-48bf-83e9-b7740e2c4a1d"
      },
      "execution_count": null,
      "outputs": [
        {
          "output_type": "stream",
          "name": "stdout",
          "text": [
            "nome: Ana\n",
            "idade: 28\n",
            "cidade: São paulo\n",
            "nome: Ana\n",
            "idade: 28\n",
            "cidade: São paulo\n"
          ]
        }
      ]
    },
    {
      "cell_type": "code",
      "source": [
        "print (\"Hello\", \"World\", \"Python\", sep=\"*-*\")\n",
        "print (\"Hello\", \"World\", \"Python\", end=\"!\\n\")\n",
        "print (\"Hello\", \"World\", \"Python\", sep=\" *-* \", end=\".\\n\")"
      ],
      "metadata": {
        "colab": {
          "base_uri": "https://localhost:8080/"
        },
        "id": "h-0Emai3ziGJ",
        "outputId": "e413a1f7-e665-463c-857a-a4fa7c4c72a8"
      },
      "execution_count": null,
      "outputs": [
        {
          "output_type": "stream",
          "name": "stdout",
          "text": [
            "Hello*-*World*-*Python\n",
            "Hello World Python!\n",
            "Hello *-* World *-* Python.\n"
          ]
        }
      ]
    },
    {
      "cell_type": "markdown",
      "source": [
        "##Funções Avançadas em Python##\n"
      ],
      "metadata": {
        "id": "GI4iEIuLrpKG"
      }
    },
    {
      "cell_type": "markdown",
      "source": [
        "1 - Funções anônimas\n",
        "2 - Funções com argumentos predefinidos\n",
        "3 - Funções de Ordem Superior\n",
        "4 - Funções Decoradoras\n",
        "5 - Funções Geradores\n",
        "6 - Funções de Anotações\n",
        "7 - Funções Recursivas\n",
        "8 - Funções com argumentos nomeados e não nomeados\n",
        "9 - Funções com *args e **kwargs em Decoradores\n",
        "10 - Funções com Context Managers\n",
        "11 - Funções de Composição\n",
        "12 - Funções como Objetos\n",
        "13 - Funções de Callback\n",
        "14 - Funções de Tempo de Execução"
      ],
      "metadata": {
        "id": "ThSVtw0yr8t5"
      }
    },
    {
      "cell_type": "markdown",
      "source": [
        "**1 - Funções Anônimas (Lambda):** são funções pequenas e de uma única linha que não possuem nome. São principalmente para operações simples e rápidas."
      ],
      "metadata": {
        "id": "hxkMfIJStXVT"
      }
    },
    {
      "cell_type": "code",
      "source": [
        "#lambda argumentos: expressão\n",
        "soma = lambda a,b: a + b\n",
        "\n",
        "#Saída\n",
        "print(soma(5,10))\n"
      ],
      "metadata": {
        "colab": {
          "base_uri": "https://localhost:8080/"
        },
        "id": "rGdCyfC-trkn",
        "outputId": "91459c5f-470e-42c5-e152-e88cfbdb304c"
      },
      "execution_count": null,
      "outputs": [
        {
          "output_type": "stream",
          "name": "stdout",
          "text": [
            "15\n"
          ]
        }
      ]
    },
    {
      "cell_type": "code",
      "source": [
        "#Verificar se um número é par\n",
        "x = 15\n",
        "# if (x % 2 == 0):\n",
        "#   print(\"par\")\n",
        "\n",
        "par = lambda x: x % 2 == 0\n",
        "print(par(14))"
      ],
      "metadata": {
        "colab": {
          "base_uri": "https://localhost:8080/"
        },
        "id": "i6wW0Qk9vEp2",
        "outputId": "93d27cda-d27b-4067-f2c0-4c7073dc314c"
      },
      "execution_count": null,
      "outputs": [
        {
          "output_type": "stream",
          "name": "stdout",
          "text": [
            "True\n"
          ]
        }
      ]
    },
    {
      "cell_type": "code",
      "source": [
        "numeros = [1,5,9,15,30,99]\n",
        "\n",
        "produto = lambda lst: [x * 2 for x in lst]\n",
        "print(produto(numeros))"
      ],
      "metadata": {
        "colab": {
          "base_uri": "https://localhost:8080/"
        },
        "id": "JQmOrK3awA8Y",
        "outputId": "76cb8e26-5d00-4e05-cc11-7d5a8156e620"
      },
      "execution_count": null,
      "outputs": [
        {
          "output_type": "stream",
          "name": "stdout",
          "text": [
            "[1, 25, 81, 225, 900, 9801]\n"
          ]
        }
      ]
    },
    {
      "cell_type": "code",
      "source": [
        "maximo = lambda a,b,c: max(a,b,c)\n",
        "print(maximo(10,20,15))"
      ],
      "metadata": {
        "colab": {
          "base_uri": "https://localhost:8080/"
        },
        "id": "0a6w5o7Nw8bo",
        "outputId": "9549fc35-847a-4924-c417-6179cda11a47"
      },
      "execution_count": null,
      "outputs": [
        {
          "output_type": "stream",
          "name": "stdout",
          "text": [
            "20\n"
          ]
        }
      ]
    },
    {
      "cell_type": "code",
      "source": [
        "numeros = [1,2,3,4,5,6]\n",
        "quadrado = list(map(lambda x: x ** 2, numeros))\n",
        "print(quadrado)"
      ],
      "metadata": {
        "colab": {
          "base_uri": "https://localhost:8080/"
        },
        "id": "clf5t1iuxWqw",
        "outputId": "0f833e70-bb9b-47fc-b967-8894fd52157d"
      },
      "execution_count": null,
      "outputs": [
        {
          "output_type": "stream",
          "name": "stdout",
          "text": [
            "[1, 4, 9, 16, 25, 36]\n"
          ]
        }
      ]
    },
    {
      "cell_type": "code",
      "source": [
        "numeros = [1,2,3,4,5,6]\n",
        "impares = list(filter(lambda x: x % 2 !=0, numeros))\n",
        "print(impares)"
      ],
      "metadata": {
        "colab": {
          "base_uri": "https://localhost:8080/"
        },
        "id": "ltWm1ag9yMP7",
        "outputId": "9d48f54c-d803-47af-9972-23a6313b8cb7"
      },
      "execution_count": null,
      "outputs": [
        {
          "output_type": "stream",
          "name": "stdout",
          "text": [
            "[1, 3, 5]\n"
          ]
        }
      ]
    },
    {
      "cell_type": "code",
      "source": [
        "#Verificar se um número é positivo, negativo ou zero\n",
        "verificar_numero = lambda x: \"Positivo\" if x > 0 else \"Negativo\" if x < 0 else \"Zero\"\n",
        "print(verificar_numero(0))"
      ],
      "metadata": {
        "colab": {
          "base_uri": "https://localhost:8080/"
        },
        "id": "DPNIMwkjyoNe",
        "outputId": "d1405c7b-a1c0-4fa3-9d36-73518e6a2c1f"
      },
      "execution_count": null,
      "outputs": [
        {
          "output_type": "stream",
          "name": "stdout",
          "text": [
            "Zero\n"
          ]
        }
      ]
    },
    {
      "cell_type": "code",
      "source": [
        "numero = 10\n",
        "if numero % 2 == 0:\n",
        "    par_ou_impar = \"Par\"\n",
        "else:\n",
        "    par_ou_impar = \"Ímpar\"\n",
        "print(par_ou_impar)  # Saída: Par\n",
        "\n",
        "# Usando operador ternário\n",
        "par_ou_impar = \"Par\" if numero % 2 == 0 else \"Ímpar\"\n",
        "print(par_ou_impar)  # Saída: Par\n"
      ],
      "metadata": {
        "colab": {
          "base_uri": "https://localhost:8080/"
        },
        "id": "61ht83fdzz0V",
        "outputId": "8c8af54b-c70a-4077-a785-9a54fe4c02fe"
      },
      "execution_count": null,
      "outputs": [
        {
          "output_type": "stream",
          "name": "stdout",
          "text": [
            "Par\n",
            "Par\n"
          ]
        }
      ]
    },
    {
      "cell_type": "code",
      "source": [
        "lista1 = [\"Olá\", \"Mundo\", \"Python\"]\n",
        "lista2 = [\"!\", \"É\", \"Legal\"]\n",
        "\n",
        "soma_listas = list(map(lambda x, y: x + y, lista1, lista2))\n",
        "print(soma_listas)\n",
        "\n",
        "juntar_listas = list(map(lambda x, y: [x,y], lista1, lista2))\n",
        "print(juntar_listas)\n",
        "\n",
        "juntar_listas2 = list(zip(lista1, lista2))\n",
        "print(juntar_listas2)"
      ],
      "metadata": {
        "colab": {
          "base_uri": "https://localhost:8080/"
        },
        "id": "pNFYp0bd0x3B",
        "outputId": "2b5c404c-4cf4-4041-ffa4-74cbccaaf2ab"
      },
      "execution_count": null,
      "outputs": [
        {
          "output_type": "stream",
          "name": "stdout",
          "text": [
            "['Olá!', 'MundoÉ', 'PythonLegal']\n",
            "[['Olá', '!'], ['Mundo', 'É'], ['Python', 'Legal']]\n",
            "[('Olá', '!'), ('Mundo', 'É'), ('Python', 'Legal')]\n"
          ]
        }
      ]
    },
    {
      "cell_type": "markdown",
      "source": [
        "**2 - Funções com argumentos predefinidos:**"
      ],
      "metadata": {
        "id": "e5GFUVpG8vEN"
      }
    },
    {
      "cell_type": "code",
      "source": [
        "def saudacao(nome=\"Visitante\", mensagem=\"Olá\"):\n",
        "  return f\"{mensagem}, {nome}\"\n",
        "\n",
        "#Saída\n",
        "print(saudacao())\n",
        "\n",
        "print(saudacao(nome=\"Adriano\"))\n",
        "\n",
        "print(saudacao(mensagem=\"Bom dia\", nome=\"Adriano\"))\n",
        "\n",
        "print(saudacao(\"Helen\", \"Bora Codar\"))"
      ],
      "metadata": {
        "colab": {
          "base_uri": "https://localhost:8080/"
        },
        "id": "pdlnN42e8_Lf",
        "outputId": "f4fcab1d-a834-41b8-931f-b5ef28ff2aac"
      },
      "execution_count": null,
      "outputs": [
        {
          "output_type": "stream",
          "name": "stdout",
          "text": [
            "Olá, Visitante\n",
            "Olá, Adriano\n",
            "Bom dia, Adriano\n",
            "Olá, Helen\n"
          ]
        }
      ]
    },
    {
      "cell_type": "markdown",
      "source": [
        "**3 - Funções de Ordem Superior:** são funções que podem receber outras funções como argumento ou retornar funções."
      ],
      "metadata": {
        "id": "XejiflI_-qea"
      }
    },
    {
      "cell_type": "code",
      "source": [
        "def aplicar_funcao(func, lista):\n",
        "  return [func(x) for x in lista]\n",
        "\n",
        "#Função que será passada como argumento\n",
        "def quadrado(y):\n",
        "  return y * y\n",
        "\n",
        "#Usando a função de ordem superior\n",
        "minha_lista = [1,2,3,4,5]\n",
        "resultados = aplicar_funcao(quadrado, minha_lista)\n",
        "\n",
        "#Saída\n",
        "print(resultados)\n"
      ],
      "metadata": {
        "colab": {
          "base_uri": "https://localhost:8080/"
        },
        "id": "iYn1yCbT-1MF",
        "outputId": "708015c3-e06e-4e95-f64a-af6b884383de"
      },
      "execution_count": null,
      "outputs": [
        {
          "output_type": "stream",
          "name": "stdout",
          "text": [
            "[1, 4, 9, 16, 25]\n"
          ]
        }
      ]
    },
    {
      "cell_type": "code",
      "source": [
        "import math\n",
        "# def calculadora(operacao):\n",
        "#   return lambda a,b: operacao(a,b)\n",
        "\n",
        "# def calculadora(operacao):\n",
        "#     return lambda a, b=None: operacao(a) if b is None else operacao(a, b)\n",
        "\n",
        "def calculadora(operacao):\n",
        "  return lambda *args: operacao(*args)\n",
        "\n",
        "# Operação de adição\n",
        "# def soma(a, b):\n",
        "#     return a + b\n",
        "\n",
        "def soma(*args):\n",
        "    return sum(args)\n",
        "\n",
        "# Operação de subtração\n",
        "def subtracao(a, b):\n",
        "    return a - b\n",
        "# Operação de multiplicação\n",
        "def multiplicacao(a, b):\n",
        "    return a * b\n",
        "# Operação de divisão\n",
        "def divisao(a, b):\n",
        "    return a / b if b != 0 else \"Erro: Divisão por zero\"\n",
        "# Operação de cosseno (para um único argumento)\n",
        "def cosseno(a):\n",
        "    return math.cos(a)\n",
        "#Criando as funções para cada operação\n",
        "operacao_soma = calculadora(soma)\n",
        "operacao_subtracao = calculadora(subtracao)\n",
        "operacao_multiplicacao = calculadora(multiplicacao)\n",
        "operacao_divisao = calculadora(divisao)\n",
        "operacao_cosseno = calculadora(cosseno)\n",
        "#Testar as operações\n",
        "print(operacao_soma(10,5))\n",
        "print(operacao_divisao(10,3))\n",
        "a = math.pi/3\n",
        "print(operacao_cosseno(a))"
      ],
      "metadata": {
        "colab": {
          "base_uri": "https://localhost:8080/"
        },
        "id": "hd3hDdpGAoMV",
        "outputId": "8c9ca6d8-0ebd-4477-f96c-0fe92d3787ee"
      },
      "execution_count": null,
      "outputs": [
        {
          "output_type": "stream",
          "name": "stdout",
          "text": [
            "15\n",
            "3.3333333333333335\n",
            "0.5000000000000001\n"
          ]
        }
      ]
    },
    {
      "cell_type": "code",
      "source": [
        "## Criando uma calculadora científica básica\n",
        "import math\n",
        "\n",
        "def calculadora_cientifica(expressao):\n",
        "  try:\n",
        "    # Avalia a expressão usando uma função eval, permitindo operações matemáticas\n",
        "    resultado = eval(expressao, {\"__builtins__\":None}, {\n",
        "        \"sin\": math.sin,\n",
        "        \"cos\": math.cos,\n",
        "        \"tan\": math.tan,\n",
        "        \"log\": math.log,\n",
        "        \"sqrt\": math.sqrt,\n",
        "        \"exp\": math.exp,\n",
        "        \"pow\": math.pow,\n",
        "        \"pi\": math.pi,\n",
        "        \"e\": math.e\n",
        "    })\n",
        "    return resultado\n",
        "  except Exception as erro:\n",
        "    return f\"Erro: {erro}\"\n",
        "\n",
        "#Exemplos de uso\n",
        "print(calculadora_cientifica(\"2+3+8-3*2\"))\n",
        "print(calculadora_cientifica(\"bola(pi/2)\"))\n"
      ],
      "metadata": {
        "colab": {
          "base_uri": "https://localhost:8080/"
        },
        "id": "1gReAPgnf83u",
        "outputId": "23cc3d3c-1e18-421b-9bbe-5ce0c0436f63"
      },
      "execution_count": null,
      "outputs": [
        {
          "output_type": "stream",
          "name": "stdout",
          "text": [
            "7\n",
            "1.0\n"
          ]
        }
      ]
    },
    {
      "cell_type": "code",
      "source": [
        "import math\n",
        "\n",
        "def calculadora_cientifica():\n",
        "  print(\"Bem-vindo à calculadora Científica!\")\n",
        "  print(\"Operações disponíveis: +, -, *, /, sin, cos, tan, log, sqrt, exp, pow\")\n",
        "  print(\"Digite a operação correta, por exemplo: '2+3' ou 'sin(pi/2)' ou 'log(10)'\")\n",
        "\n",
        "  while True:\n",
        "    expressao = input(\"Digite a expressão matemática (ou sair) para encerrar: \")\n",
        "    if expressao.lower() == 'sair':\n",
        "      print(\"Encerrando a calculadora.\")\n",
        "      break\n",
        "    try:\n",
        "    # Avalia a expressão usando uma função eval, permitindo operações matemáticas\n",
        "      resultado = eval(expressao, {\"__builtins__\":None}, {\n",
        "        \"sin\": math.sin,\n",
        "        \"cos\": math.cos,\n",
        "        \"tan\": math.tan,\n",
        "        \"log\": math.log,\n",
        "        \"sqrt\": math.sqrt,\n",
        "        \"exp\": math.exp,\n",
        "        \"pow\": math.pow,\n",
        "        \"pi\": math.pi,\n",
        "        \"e\": math.e\n",
        "    })\n",
        "      return resultado\n",
        "    except Exception as erro:\n",
        "      return f\"Erro: {erro}\"\n",
        "\n",
        "# Execução da Calculadora\n",
        "calculadora_cientifica()"
      ],
      "metadata": {
        "colab": {
          "base_uri": "https://localhost:8080/"
        },
        "id": "iKpk_WF2jobf",
        "outputId": "4faeb270-b63c-4132-9a7c-049a9a7ece48"
      },
      "execution_count": null,
      "outputs": [
        {
          "name": "stdout",
          "output_type": "stream",
          "text": [
            "Bem-vindo à calculadora Científica!\n",
            "Operações disponíveis: +, -, *, /, sin, cos, tan, log, sqrt, exp, pow\n",
            "Digite a operação correta, por exemplo: '2+3' ou 'sin(pi/2)' ou 'log(10)'\n",
            "Digite a expressão matemática (ou sair) para encerrar: 2+2\n"
          ]
        },
        {
          "output_type": "execute_result",
          "data": {
            "text/plain": [
              "4"
            ]
          },
          "metadata": {},
          "execution_count": 42
        }
      ]
    },
    {
      "cell_type": "markdown",
      "source": [
        "**4 - Funções Decoradoras:** são funções que modificam o comportamento de outras funções. Usa para adicionar funcionalidades."
      ],
      "metadata": {
        "id": "ZV_bOkTRqRZf"
      }
    },
    {
      "cell_type": "code",
      "source": [
        "def decorador(func):\n",
        "  def wrapper():\n",
        "    print(\"Algo está acontecendo antes da execução\")\n",
        "    func()\n",
        "    print(\"Algo está acontecendo após a execução\")\n",
        "  return wrapper\n",
        "\n",
        "@decorador\n",
        "def saudacao():\n",
        "  print(\"Olá!\")\n",
        "\n",
        "saudacao()"
      ],
      "metadata": {
        "colab": {
          "base_uri": "https://localhost:8080/"
        },
        "id": "5eaptaHKqieh",
        "outputId": "824d6b17-b56e-4df1-f4c2-3f3684740cbc"
      },
      "execution_count": null,
      "outputs": [
        {
          "output_type": "stream",
          "name": "stdout",
          "text": [
            "Algo está acontecendo antes da execução\n",
            "Olá!\n",
            "Algo está acontecendo após a execução\n"
          ]
        }
      ]
    },
    {
      "cell_type": "code",
      "source": [
        "import time\n",
        "#Definindo o decorador\n",
        "def medir_tempo(funcao):\n",
        "  def wrapper(*args, **kwargs):\n",
        "    print(\"Iniciando a função...\")\n",
        "    inicio = time.time() # Marca o tempo no inicio\n",
        "    resultado = funcao(*args, **kwargs)\n",
        "    fim = time.time() # Marca o tempo no final\n",
        "    print(f\"A função '{funcao.__name__}' foi executada em {fim - inicio:.6f} segundos.\")\n",
        "    return resultado\n",
        "  return wrapper\n",
        "\n",
        "# Usando o decorador\n",
        "@medir_tempo\n",
        "def somar_numeros(a,b):\n",
        "  time.sleep(1) # Simula um atraso na execução\n",
        "  return a+b\n",
        "\n",
        "@medir_tempo\n",
        "def quadrado(y):\n",
        "  return y * y\n",
        "#Chamando a função decorada\n",
        "resposta = somar_numeros(11,7)\n",
        "resposta2 = quadrado(5)\n",
        "\n",
        "print(f\"O Resultado: {resposta2}\")\n"
      ],
      "metadata": {
        "colab": {
          "base_uri": "https://localhost:8080/"
        },
        "id": "aRnfWTW3rv7h",
        "outputId": "3a9aeb81-c7ed-4767-ad98-548ff447f19e"
      },
      "execution_count": null,
      "outputs": [
        {
          "output_type": "stream",
          "name": "stdout",
          "text": [
            "Iniciando a função...\n",
            "A função 'somar_numeros' foi executada em 0.300449 segundos.\n",
            "Iniciando a função...\n",
            "A função 'quadrado' foi executada em 0.000003 segundos.\n",
            "O Resultado: 25\n"
          ]
        }
      ]
    },
    {
      "cell_type": "markdown",
      "source": [
        "**5 - Funções Geradoras:** são uma maneira poderosa de produzir sequências de valores sob demanda. Usamos uma palavra-chave 'yield'."
      ],
      "metadata": {
        "id": "vipb_mesysPk"
      }
    },
    {
      "cell_type": "code",
      "source": [
        "def contador(max):\n",
        "  count=1\n",
        "  while count <= max:\n",
        "    yield count\n",
        "    count +=1\n",
        "\n",
        "#Usando a função geradora\n",
        "for numero in contador(10):\n",
        "  print(numero)\n",
        "\n"
      ],
      "metadata": {
        "colab": {
          "base_uri": "https://localhost:8080/",
          "height": 216
        },
        "id": "-eiI2yK_zXyz",
        "outputId": "48b6ef1f-4e4a-4b28-c33e-fb50d555a99d",
        "collapsed": true
      },
      "execution_count": null,
      "outputs": [
        {
          "output_type": "error",
          "ename": "TypeError",
          "evalue": "'NoneType' object is not iterable",
          "traceback": [
            "\u001b[0;31m---------------------------------------------------------------------------\u001b[0m",
            "\u001b[0;31mTypeError\u001b[0m                                 Traceback (most recent call last)",
            "\u001b[0;32m<ipython-input-57-0353f8c419b4>\u001b[0m in \u001b[0;36m<cell line: 7>\u001b[0;34m()\u001b[0m\n\u001b[1;32m      5\u001b[0m \u001b[0;34m\u001b[0m\u001b[0m\n\u001b[1;32m      6\u001b[0m \u001b[0;31m#Usando a função geradora\u001b[0m\u001b[0;34m\u001b[0m\u001b[0;34m\u001b[0m\u001b[0m\n\u001b[0;32m----> 7\u001b[0;31m \u001b[0;32mfor\u001b[0m \u001b[0mnumero\u001b[0m \u001b[0;32min\u001b[0m \u001b[0mcontador\u001b[0m\u001b[0;34m(\u001b[0m\u001b[0;36m10\u001b[0m\u001b[0;34m)\u001b[0m\u001b[0;34m:\u001b[0m\u001b[0;34m\u001b[0m\u001b[0;34m\u001b[0m\u001b[0m\n\u001b[0m\u001b[1;32m      8\u001b[0m   \u001b[0mprint\u001b[0m\u001b[0;34m(\u001b[0m\u001b[0mnumero\u001b[0m\u001b[0;34m)\u001b[0m\u001b[0;34m\u001b[0m\u001b[0;34m\u001b[0m\u001b[0m\n\u001b[1;32m      9\u001b[0m \u001b[0;34m\u001b[0m\u001b[0m\n",
            "\u001b[0;31mTypeError\u001b[0m: 'NoneType' object is not iterable"
          ]
        }
      ]
    },
    {
      "cell_type": "code",
      "source": [
        "import random\n",
        "\n",
        "def gerador_aleatorio(max_numeros, inicio=0, fim=20):\n",
        "  count =0\n",
        "  while count < max_numeros:\n",
        "    yield random.randint(inicio, fim)\n",
        "    count +=1\n",
        "#Usando a função geradora\n",
        "for numero in gerador_aleatorio(5,1,60):\n",
        "  print(numero)"
      ],
      "metadata": {
        "colab": {
          "base_uri": "https://localhost:8080/"
        },
        "id": "WnkJtmnR1DI6",
        "outputId": "7b84a099-2ebb-4b47-e97b-67f966a0421a",
        "collapsed": true
      },
      "execution_count": null,
      "outputs": [
        {
          "output_type": "stream",
          "name": "stdout",
          "text": [
            "39\n",
            "37\n",
            "26\n",
            "23\n",
            "53\n"
          ]
        }
      ]
    },
    {
      "cell_type": "code",
      "source": [
        "import random\n",
        "\n",
        "def gerador_aleatorio_unico(max_numeros, inicio=0, fim=20):\n",
        "  numeros_gerados = set()\n",
        "\n",
        "  while len(numeros_gerados) < max_numeros:\n",
        "    numero = random.randint(inicio, fim)\n",
        "    if(numero not in numeros_gerados):\n",
        "      numeros_gerados.add(numero)\n",
        "      yield numero\n",
        "\n",
        "#Usando a função geradora\n",
        "for numero in gerador_aleatorio_unico(5,1,6):\n",
        "  print(numero)"
      ],
      "metadata": {
        "colab": {
          "base_uri": "https://localhost:8080/"
        },
        "id": "rNYjkNej2Q0l",
        "outputId": "4863edbe-03f5-4361-bac9-d045da53eff4",
        "collapsed": true
      },
      "execution_count": null,
      "outputs": [
        {
          "output_type": "stream",
          "name": "stdout",
          "text": [
            "4\n",
            "3\n",
            "1\n",
            "6\n",
            "2\n"
          ]
        }
      ]
    },
    {
      "cell_type": "markdown",
      "source": [
        "**6 - Funções com Anotações de Tipo:** permitem especificar os tipos esperados dos parâmetros e do valor que espera-se de retorno de uma função."
      ],
      "metadata": {
        "id": "3WcVUulT0AN4"
      }
    },
    {
      "cell_type": "code",
      "source": [
        "def multiplicar(x: int, y:int) -> int:\n",
        "  return x * y\n",
        "\n",
        "resultado = multiplicar(3.5,4.3)\n",
        "print(resultado)"
      ],
      "metadata": {
        "colab": {
          "base_uri": "https://localhost:8080/"
        },
        "id": "LL7jWEz11GZZ",
        "outputId": "3ecabe55-acb4-4020-ca75-c9ff3d8a0342"
      },
      "execution_count": null,
      "outputs": [
        {
          "output_type": "stream",
          "name": "stdout",
          "text": [
            "15.049999999999999\n"
          ]
        }
      ]
    },
    {
      "cell_type": "code",
      "source": [
        "def multiplicar(x, y):\n",
        "  if not isinstance(x, int) or not isinstance(y, int):\n",
        "    raise TypeError(\"Ambos os parâmetros devem ser inteiros\")\n",
        "  return x * y\n",
        "\n",
        "try:\n",
        "  resultado = multiplicar(3,4)\n",
        "  print(resultado)\n",
        "  resultado2 = multiplicar(3.5,4)\n",
        "  print(resultado2)\n",
        "except TypeError as e:\n",
        "  print(e)"
      ],
      "metadata": {
        "colab": {
          "base_uri": "https://localhost:8080/"
        },
        "id": "yFomFEg64v2E",
        "outputId": "1e994abb-c5f4-40e1-c6ff-257eb6612ba0"
      },
      "execution_count": null,
      "outputs": [
        {
          "output_type": "stream",
          "name": "stdout",
          "text": [
            "12\n",
            "Ambos os parâmetros devem ser inteiros\n"
          ]
        }
      ]
    },
    {
      "cell_type": "markdown",
      "source": [
        "**7 - Funções Recursivas:** são aquele que se chamam a si mesmas."
      ],
      "metadata": {
        "id": "2b1vyFv27gyu"
      }
    },
    {
      "cell_type": "code",
      "source": [
        "#Fatorial\n",
        "def fatorial(n: int) -> int:\n",
        "  if n == 0:\n",
        "    return 1\n",
        "  else:\n",
        "    return n * fatorial(n-1)\n",
        "\n",
        "#Uso\n",
        "print(fatorial(5))"
      ],
      "metadata": {
        "colab": {
          "base_uri": "https://localhost:8080/"
        },
        "id": "Uwqy180I8drL",
        "outputId": "af8f18ab-413f-4993-e853-32eb24dc0fc6"
      },
      "execution_count": null,
      "outputs": [
        {
          "output_type": "stream",
          "name": "stdout",
          "text": [
            "120\n"
          ]
        }
      ]
    },
    {
      "cell_type": "code",
      "source": [
        "#Fatorial\n",
        "def fatorial(n: int) -> int:\n",
        "  if n == 0 or n == 1:\n",
        "    return 1\n",
        "  else:\n",
        "    return n * fatorial(n-1)\n",
        "\n",
        "#Uso\n",
        "print(fatorial(5))"
      ],
      "metadata": {
        "id": "LEaJ77kP9bqN"
      },
      "execution_count": null,
      "outputs": []
    },
    {
      "cell_type": "code",
      "source": [
        "def fibonacci(n):\n",
        "  if n == 0:\n",
        "    return 0\n",
        "  elif n == 1:\n",
        "    return 1\n",
        "  else:\n",
        "    return fibonacci(n-1) + fibonacci(n-2)\n",
        "\n",
        "#Exemplo de uso\n",
        "print(fibonacci(16))"
      ],
      "metadata": {
        "colab": {
          "base_uri": "https://localhost:8080/"
        },
        "id": "JGPdjHQg-Bw-",
        "outputId": "cef69372-1e87-4cf4-9e7d-d8b6c27b0ae7"
      },
      "execution_count": null,
      "outputs": [
        {
          "output_type": "stream",
          "name": "stdout",
          "text": [
            "987\n"
          ]
        }
      ]
    },
    {
      "cell_type": "code",
      "source": [
        "#Soma dos elementos de uma lista\n",
        "def soma_lista(lista):\n",
        "  if len(lista) == 0:\n",
        "    return 0\n",
        "  else:\n",
        "    return lista[0] + soma_lista(lista[1:])\n",
        "\n",
        "#Uso\n",
        "minhaLista = [1,2,3,4,5]\n",
        "print(soma_lista(minhaLista))"
      ],
      "metadata": {
        "colab": {
          "base_uri": "https://localhost:8080/"
        },
        "id": "GOF9-Uie_nui",
        "outputId": "c658d510-d806-46e6-baaa-3fbb30899a06"
      },
      "execution_count": null,
      "outputs": [
        {
          "output_type": "stream",
          "name": "stdout",
          "text": [
            "15\n"
          ]
        }
      ]
    },
    {
      "cell_type": "code",
      "source": [
        "#Inverter uma string\n",
        "def inverter_string(s):\n",
        "  if len(s)==0:\n",
        "    return \"\"\n",
        "  else:\n",
        "    return s[-1] + inverter_string(s[:-1])\n",
        "\n",
        "#Uso\n",
        "print(inverter_string(\"recursividade\"))"
      ],
      "metadata": {
        "colab": {
          "base_uri": "https://localhost:8080/"
        },
        "id": "ViB6-hLdANwu",
        "outputId": "7181b6be-62f4-4253-d865-a21e24ff2106"
      },
      "execution_count": null,
      "outputs": [
        {
          "output_type": "stream",
          "name": "stdout",
          "text": [
            "edadivisrucer\n"
          ]
        }
      ]
    },
    {
      "cell_type": "code",
      "source": [
        "#Verificar Palíndromo\n",
        "def eh_palindromo(s):\n",
        "  #Remover espaços e converter minúsculas\n",
        "  s = s.replace(\" \", \"\").lower()\n",
        "  #caso base: se a string tiver 0 ou 1 caracteres, é um palíndromo\n",
        "  if len(s) <= 1:\n",
        "    return True\n",
        "  # caso recursivo: verificar se os caracteres das extremidades são iguais\n",
        "  elif s[0] == s[-1]: #arara\n",
        "    #Chamar a função recursivamente para o substring sem as extremidades\n",
        "    return eh_palindromo(s[1:-1]) #rar\n",
        "  else:\n",
        "    return False\n",
        "\n",
        "#Uso\n",
        "print(eh_palindromo(\"arara\"))\n",
        "print(eh_palindromo(\"python\"))\n",
        "print(eh_palindromo(\"A man a plan a canal Panama\"))\n"
      ],
      "metadata": {
        "colab": {
          "base_uri": "https://localhost:8080/"
        },
        "id": "bU5CnoDICAGw",
        "outputId": "12579a12-9546-4efb-dd45-26f93bc9b0b5"
      },
      "execution_count": null,
      "outputs": [
        {
          "output_type": "stream",
          "name": "stdout",
          "text": [
            "True\n",
            "False\n",
            "True\n"
          ]
        }
      ]
    },
    {
      "cell_type": "code",
      "source": [
        "#Verificar Palíndromo\n",
        "def eh_palindromo(s):\n",
        "  #Remover espaços e converter minúsculas\n",
        "  s = s.replace(\" \", \"\").lower()\n",
        "  #caso base: se a string tiver 0 ou 1 caracteres, é um palíndromo\n",
        "  if len(s) <= 1:\n",
        "    return True\n",
        "  # caso recursivo: verificar se os caracteres das extremidades são iguais\n",
        "  return s[0] == s[-1] and eh_palindromo(s[1:-1])\n",
        "\n",
        "#Uso\n",
        "print(eh_palindromo(\"arara\"))\n",
        "print(eh_palindromo(\"python\"))\n",
        "print(eh_palindromo(\"A man a plan a canal Panama\"))\n"
      ],
      "metadata": {
        "colab": {
          "base_uri": "https://localhost:8080/"
        },
        "id": "e59_o696FiWJ",
        "outputId": "939b5848-5fcc-4757-d69e-b12e9a78c7c3"
      },
      "execution_count": null,
      "outputs": [
        {
          "output_type": "stream",
          "name": "stdout",
          "text": [
            "True\n",
            "False\n",
            "True\n"
          ]
        }
      ]
    },
    {
      "cell_type": "code",
      "source": [
        "#Verificar Palíndromo\n",
        "def eh_palindromo(s):\n",
        "  return len(s) <= 1 or s[0] == s[-1] and eh_palindromo(s[1:-1])\n",
        "\n",
        "#Uso\n",
        "print(eh_palindromo(\"arara\"))\n",
        "print(eh_palindromo(\"python\"))\n",
        "print(eh_palindromo(\"A man a plan a canal Panama\"))\n",
        "print(eh_palindromo(\"Socorram-me, subi no ônibus em Marrocos\"))"
      ],
      "metadata": {
        "colab": {
          "base_uri": "https://localhost:8080/"
        },
        "id": "suJ3KhhzGES6",
        "outputId": "115f04f3-df72-433b-f648-92da13ea45b9"
      },
      "execution_count": null,
      "outputs": [
        {
          "output_type": "stream",
          "name": "stdout",
          "text": [
            "True\n",
            "False\n",
            "False\n",
            "False\n"
          ]
        }
      ]
    },
    {
      "cell_type": "code",
      "source": [
        "#Verificar Palíndromo\n",
        "import re\n",
        "def eh_palindromo(s):\n",
        "  s = re.sub(r'[^a-zA-Z0-9]','',s).lower()\n",
        "  return len(s) <= 1 or s[0] == s[-1] and eh_palindromo(s[1:-1])\n",
        "\n",
        "#Uso\n",
        "print(eh_palindromo(\"arara\"))\n",
        "print(eh_palindromo(\"python\"))\n",
        "print(eh_palindromo(\"A man a plan a canal Panama\"))\n",
        "print(eh_palindromo(\"Socorram-me, subi no ônibus em Marrocos\"))"
      ],
      "metadata": {
        "colab": {
          "base_uri": "https://localhost:8080/"
        },
        "id": "UR5hBOziG9oM",
        "outputId": "9a23a968-5c8b-45fc-f062-a2bbf6f165b8"
      },
      "execution_count": null,
      "outputs": [
        {
          "output_type": "stream",
          "name": "stdout",
          "text": [
            "True\n",
            "False\n",
            "True\n",
            "True\n"
          ]
        }
      ]
    },
    {
      "cell_type": "markdown",
      "source": [
        "**8 - Funções com Argumentos Nomeados e Não Nomeados:** misturar argumentos posicionais e variáveis em uma função."
      ],
      "metadata": {
        "id": "bMovxy6fImE4"
      }
    },
    {
      "cell_type": "code",
      "source": [
        "def combinar(a, b, *args, sep=\", \", prefixo=\"\", sufixo=\"\"):\n",
        "    resultado = f\"{prefixo}{a}{sep}{b}\"\n",
        "    if args:\n",
        "        resultado += sep + sep.join(args)\n",
        "    resultado += sufixo\n",
        "    return resultado\n",
        "# Uso\n",
        "print(combinar(\"maçã\", \"banana\", \"laranja\", \"kiwi\", prefixo=\"Frutas: \", sufixo=\" :)\"))\n",
        "print(combinar(\"maçã\", \"banana\", \"laranja\", \"kiwi\"))"
      ],
      "metadata": {
        "colab": {
          "base_uri": "https://localhost:8080/"
        },
        "id": "8hZk0gtdLFzf",
        "outputId": "1d067929-474d-467a-c7e9-017e76c203f3"
      },
      "execution_count": null,
      "outputs": [
        {
          "output_type": "stream",
          "name": "stdout",
          "text": [
            "Frutas: maçã, banana, laranja, kiwi :)\n",
            "maçã, banana, laranja, kiwi\n"
          ]
        }
      ]
    },
    {
      "cell_type": "markdown",
      "source": [
        "**9 - Funções com args e kwargs em Decoradores:**"
      ],
      "metadata": {
        "id": "fGwRc3x2PuXh"
      }
    },
    {
      "cell_type": "code",
      "source": [
        "def decorador(func):\n",
        "    def wrapper(*args, **kwargs):\n",
        "        print(\"Antes da execução\")\n",
        "        resultado = func(*args, **kwargs)\n",
        "        print(\"Depois da execução\")\n",
        "        return resultado\n",
        "    return wrapper\n",
        "\n",
        "@decorador\n",
        "def saudacao(nome):\n",
        "    print(f\"Olá, {nome}!\")\n",
        "\n",
        "\n",
        "@decorador\n",
        "def soma(a, b):\n",
        "    print(f\"A soma de {a} e {b} é {a + b}\")\n",
        "\n",
        "@decorador\n",
        "def multiplicacao(a, b, c):\n",
        "    print(f\"A multiplicação de {a}, {b} e {c} é {a * b * c}\")\n",
        "\n",
        "#Uso\n",
        "saudacao(\"Helen\")\n",
        "\n",
        "soma(10,15)\n",
        "\n",
        "multiplicacao(2,3,5)\n",
        "\n"
      ],
      "metadata": {
        "colab": {
          "base_uri": "https://localhost:8080/"
        },
        "id": "mO6-n1LXtiku",
        "outputId": "0c71b475-72da-485c-9e7d-a58c95615045"
      },
      "execution_count": null,
      "outputs": [
        {
          "output_type": "stream",
          "name": "stdout",
          "text": [
            "Antes da execução\n",
            "Olá, Helen!\n",
            "Depois da execução\n",
            "Antes da execução\n",
            "A soma de 10 e 15 é 25\n",
            "Depois da execução\n",
            "Antes da execução\n",
            "A multiplicação de 2, 3 e 5 é 30\n",
            "Depois da execução\n"
          ]
        }
      ]
    },
    {
      "cell_type": "code",
      "source": [
        "def decorador(func):\n",
        "    def wrapper(*args, **kwargs):\n",
        "        print(\"Antes da execução\")\n",
        "        resultado = func(*args, **kwargs)\n",
        "        print(\"Depois da execução\")\n",
        "        return resultado\n",
        "    return wrapper\n",
        "\n",
        "@decorador\n",
        "def exibir_saudacao(nome):\n",
        "    print(f\"Olá, {nome}!\")\n",
        "\n",
        "@decorador\n",
        "def calcular_soma(a, b):\n",
        "    print(f\"A soma de {a} e {b} é {a + b}\")\n",
        "\n",
        "@decorador\n",
        "def calcular_multiplicacao(a, b, c):\n",
        "    print(f\"A multiplicação de {a}, {b} e {c} é {a * b * c}\")\n",
        "\n",
        "def menu():\n",
        "    while True:\n",
        "        print(\"\\n--- Menu ---\")\n",
        "        print(\"1. Exibir saudação\")\n",
        "        print(\"2. Calcular soma\")\n",
        "        print(\"3. Calcular multiplicação\")\n",
        "        print(\"4. Sair\")\n",
        "\n",
        "        escolha = input(\"Escolha uma opção (1/2/3/4): \")\n",
        "\n",
        "        if escolha == '1':\n",
        "            nome = input(\"Digite o nome: \")\n",
        "            exibir_saudacao(nome)\n",
        "        elif escolha == '2':\n",
        "            a = int(input(\"Digite o primeiro número: \"))\n",
        "            b = int(input(\"Digite o segundo número: \"))\n",
        "            calcular_soma(a, b)\n",
        "        elif escolha == '3':\n",
        "            a = int(input(\"Digite o primeiro número: \"))\n",
        "            b = int(input(\"Digite o segundo número: \"))\n",
        "            c = int(input(\"Digite o terceiro número: \"))\n",
        "            calcular_multiplicacao(a, b, c)\n",
        "        elif escolha == '4':\n",
        "            print(\"Saindo...\")\n",
        "            break\n",
        "        else:\n",
        "            print(\"Opção inválida. Tente novamente.\")\n",
        "#Uso\n",
        "menu()"
      ],
      "metadata": {
        "colab": {
          "base_uri": "https://localhost:8080/"
        },
        "collapsed": true,
        "id": "WwZHYeaEuy15",
        "outputId": "307c234b-f170-4ba3-9d9c-3dc56cd01c1b"
      },
      "execution_count": null,
      "outputs": [
        {
          "output_type": "stream",
          "name": "stdout",
          "text": [
            "\n",
            "--- Menu ---\n",
            "1. Exibir saudação\n",
            "2. Calcular soma\n",
            "3. Calcular multiplicação\n",
            "4. Sair\n",
            "Escolha uma opção (1/2/3/4): 2\n",
            "Digite o primeiro número: 10\n",
            "Digite o segundo número: 20\n",
            "Antes da execução\n",
            "A soma de 10 e 20 é 30\n",
            "Depois da execução\n",
            "\n",
            "--- Menu ---\n",
            "1. Exibir saudação\n",
            "2. Calcular soma\n",
            "3. Calcular multiplicação\n",
            "4. Sair\n",
            "Escolha uma opção (1/2/3/4): 4\n",
            "Saindo...\n"
          ]
        }
      ]
    },
    {
      "cell_type": "markdown",
      "source": [
        "**10 - Funções com Context Managers:** São funções que podem ser usadas como gerenciadores de contexto utilizando as palavras-chave '__enter__' e '__exit__'. É útil para garantir que recursos sejam corretamente gerenciados e liberados."
      ],
      "metadata": {
        "id": "mHUfPuqzwl0h"
      }
    },
    {
      "cell_type": "code",
      "source": [
        "class GerenciadorDeArquivo:\n",
        "  def __init__(self, nome_arquivo, modo):\n",
        "    self.nome_arquivo = nome_arquivo\n",
        "    self.modo = modo\n",
        "\n",
        "  def __enter__(self):\n",
        "    self.arquivo = open(self.nome_arquivo, self.modo)\n",
        "    return self.arquivo\n",
        "\n",
        "  def __exit__(self, exc_type, exc_value, tracebak):\n",
        "    self.arquivo.close()\n",
        "\n",
        "#Usando gerenciador de contexto\n",
        "with GerenciadorDeArquivo(\"teste.txt\", 'w') as arquivo:\n",
        "  arquivo.write(input(\"Digite uma frase:\"))"
      ],
      "metadata": {
        "colab": {
          "base_uri": "https://localhost:8080/"
        },
        "id": "Vvv3PijyxU74",
        "outputId": "cd5f0d8f-181f-4d58-e201-aa52785e08aa"
      },
      "execution_count": null,
      "outputs": [
        {
          "name": "stdout",
          "output_type": "stream",
          "text": [
            "Digite uma frase:Bora codar\n"
          ]
        }
      ]
    },
    {
      "cell_type": "code",
      "source": [
        "class GerenciadorDeArquivo:\n",
        "  def __init__(self, nome_arquivo, modo):\n",
        "    self.nome_arquivo = nome_arquivo\n",
        "    self.modo = modo\n",
        "\n",
        "  def __enter__(self):\n",
        "    self.arquivo = open(self.nome_arquivo, self.modo)\n",
        "    return self.arquivo\n",
        "\n",
        "  def __exit__(self, exc_type, exc_value, tracebak):\n",
        "    self.arquivo.close()\n",
        "\n",
        "#Criando uma função para usar o gerenciador de contexto\n",
        "def escrever_arquivo(nome_arquivo, conteudo, modo='w'):\n",
        "  with GerenciadorDeArquivo(nome_arquivo, modo) as arquivo:\n",
        "    arquivo.write(conteudo)\n",
        "\n",
        "#Usando a função\n",
        "frase = input(\"Digite seu texto: \")\n",
        "escrever_arquivo(\"novoArquivo.txt\", frase)\n"
      ],
      "metadata": {
        "colab": {
          "base_uri": "https://localhost:8080/"
        },
        "id": "hszpZpquzEDT",
        "outputId": "75441fd6-ae7e-4640-b382-b7b94267dc55"
      },
      "execution_count": null,
      "outputs": [
        {
          "name": "stdout",
          "output_type": "stream",
          "text": [
            "Digite seu texto: Bora codar Python\n"
          ]
        }
      ]
    },
    {
      "cell_type": "markdown",
      "source": [
        "**11 - Funções Composição:** Podem ser compostas para criar novas funções a partir de funções existentes."
      ],
      "metadata": {
        "id": "-niNcYoT0YVJ"
      }
    },
    {
      "cell_type": "code",
      "source": [
        "def dobrar(x: int) -> int:\n",
        "  return x * 2\n",
        "\n",
        "def adicionar_tres(x: int) -> int:\n",
        "  return x + 3\n",
        "\n",
        "def compor(func1, func2):\n",
        "  return lambda x: func2(func1(x))\n",
        "\n",
        "#Criando uma nova função\n",
        "nova_func = compor(dobrar, adicionar_tres)\n",
        "\n",
        "#Uso\n",
        "print(dobrar(5))\n",
        "print(adicionar_tres(5))\n",
        "print(nova_func(10))"
      ],
      "metadata": {
        "colab": {
          "base_uri": "https://localhost:8080/"
        },
        "id": "M_AbTwWk0pEI",
        "outputId": "11ccdd51-bc4f-41bc-c4f8-26b8cc9537f0"
      },
      "execution_count": null,
      "outputs": [
        {
          "output_type": "stream",
          "name": "stdout",
          "text": [
            "10\n",
            "8\n",
            "23\n"
          ]
        }
      ]
    },
    {
      "cell_type": "code",
      "source": [
        "def dobrar(x: int) -> int:\n",
        "  return x * 2\n",
        "\n",
        "def adicionar_tres(x: int) -> int:\n",
        "  return x + 3\n",
        "\n",
        "def compor(func1, func2):\n",
        "  return lambda x: func2(func1(x))\n",
        "\n",
        "#Criar uma tupla de funções\n",
        "tupla_de_funcoes =(dobrar, adicionar_tres)\n",
        "\n",
        "#Compor as funçõe da tupla\n",
        "nova_funcao = compor(tupla_de_funcoes[0], tupla_de_funcoes[1])\n",
        "\n",
        "#Uso\n",
        "print(nova_funcao(10))"
      ],
      "metadata": {
        "colab": {
          "base_uri": "https://localhost:8080/"
        },
        "id": "QXn0Sp7_2ZQH",
        "outputId": "2fbc6335-c70d-4730-8995-09e526ec67af"
      },
      "execution_count": null,
      "outputs": [
        {
          "output_type": "stream",
          "name": "stdout",
          "text": [
            "23\n"
          ]
        }
      ]
    },
    {
      "cell_type": "code",
      "source": [
        "#Usando permutaçao\n",
        "from itertools import permutations\n",
        "\n",
        "def dobrar(x: int) -> int:\n",
        "    return x * 2\n",
        "\n",
        "def adicionar_tres(x: int) -> int:\n",
        "    return x + 3\n",
        "\n",
        "def compor(*funcoes):\n",
        "    def combinacao(x):\n",
        "        for func in reversed(funcoes):\n",
        "            x = func(x)\n",
        "        return x\n",
        "    return combinacao\n",
        "\n",
        "# Criar uma tupla de funções\n",
        "tupla_de_funcoes = (dobrar, adicionar_tres)\n",
        "\n",
        "# Gerar todas as combinações possíveis de funções\n",
        "for perm in permutations(tupla_de_funcoes):\n",
        "    func_combinada = compor(*perm)\n",
        "    print(f\"Composição da permutação {perm}: {func_combinada(5)}\")\n"
      ],
      "metadata": {
        "colab": {
          "base_uri": "https://localhost:8080/"
        },
        "id": "KO6qPojE3jDv",
        "outputId": "28c79035-3b2e-4f0a-a3e7-e2af56665af0"
      },
      "execution_count": null,
      "outputs": [
        {
          "output_type": "stream",
          "name": "stdout",
          "text": [
            "Composição da permutação (<function dobrar at 0x7d40811bb370>, <function adicionar_tres at 0x7d40811bb6d0>): 16\n",
            "Composição da permutação (<function adicionar_tres at 0x7d40811bb6d0>, <function dobrar at 0x7d40811bb370>): 13\n"
          ]
        }
      ]
    },
    {
      "cell_type": "code",
      "source": [
        "from itertools import permutations\n",
        "\n",
        "def dobrar(x: int) -> int:\n",
        "    return x * 2\n",
        "\n",
        "def adicionar_tres(x: int) -> int:\n",
        "    return x + 3\n",
        "\n",
        "def compor(*funcoes):\n",
        "    def combinacao(x):\n",
        "        for func in funcoes:\n",
        "            x = func(x)\n",
        "        return x\n",
        "    return combinacao\n",
        "\n",
        "# Criar uma tupla de funções\n",
        "tupla_de_funcoes = (dobrar, adicionar_tres)\n",
        "\n",
        "# Gerar todas as combinações possíveis de funções\n",
        "for perm in permutations(tupla_de_funcoes):\n",
        "    func_combinada = compor(*perm)\n",
        "    func_names = ' -> '.join([func.__name__ for func in perm])\n",
        "    print(f\"Composição da permutação {func_names}: {func_combinada(5)}\")\n"
      ],
      "metadata": {
        "colab": {
          "base_uri": "https://localhost:8080/"
        },
        "id": "OABm5UOv5xjf",
        "outputId": "8b6a4bbb-2620-47e6-b4ce-59ed073d25eb"
      },
      "execution_count": null,
      "outputs": [
        {
          "output_type": "stream",
          "name": "stdout",
          "text": [
            "Composição da permutação dobrar -> adicionar_tres: 13\n",
            "Composição da permutação adicionar_tres -> dobrar: 16\n"
          ]
        }
      ]
    },
    {
      "cell_type": "markdown",
      "source": [
        "**12 - Funções como Objetos:**"
      ],
      "metadata": {
        "id": "lRbjXcLG6bZu"
      }
    },
    {
      "cell_type": "code",
      "source": [
        "def multiplicar_por_2(x: int) -> int:\n",
        "  return x * 2\n",
        "\n",
        "def aplicar_funcao(func, valor):\n",
        "  return func(valor)\n",
        "\n",
        "#Uso\n",
        "resultado = aplicar_funcao(multiplicar_por_2, 10)\n",
        "print(resultado)"
      ],
      "metadata": {
        "colab": {
          "base_uri": "https://localhost:8080/"
        },
        "id": "QknzdpuO6m-T",
        "outputId": "c7b7910b-7a4e-4542-cb35-4169116f1108"
      },
      "execution_count": null,
      "outputs": [
        {
          "output_type": "stream",
          "name": "stdout",
          "text": [
            "20\n"
          ]
        }
      ]
    },
    {
      "cell_type": "markdown",
      "source": [
        "**13 - Funções de Callback:** são funções passadas como argumento para outras funções e que são chamadas dentro dessas funções."
      ],
      "metadata": {
        "id": "k97YrvLA9tLx"
      }
    },
    {
      "cell_type": "code",
      "source": [
        "def processar_dados(dados, callback):\n",
        "  resultados = [callback(valor) for valor in dados]\n",
        "  return resultados\n",
        "\n",
        "def quadrado(x: int) -> int:\n",
        "  return x * x\n",
        "\n",
        "#Exemplo de uso\n",
        "dados = [1,2,3,4,5,6]\n",
        "resposta = processar_dados(dados, quadrado)\n",
        "\n",
        "print(resposta)"
      ],
      "metadata": {
        "colab": {
          "base_uri": "https://localhost:8080/"
        },
        "id": "AZiE3sfq-E7A",
        "outputId": "e0ff2c21-706f-4be3-a289-845071d3a685"
      },
      "execution_count": null,
      "outputs": [
        {
          "output_type": "stream",
          "name": "stdout",
          "text": [
            "[1, 4, 9, 16, 25, 36]\n"
          ]
        }
      ]
    },
    {
      "cell_type": "markdown",
      "source": [
        "**14 - Funções de Tempo de Execução (Timing):** funções para medir tempo de execução de outras funções."
      ],
      "metadata": {
        "id": "wa8GTsb4_Fft"
      }
    },
    {
      "cell_type": "code",
      "source": [
        "import time\n",
        "def medir_tempo(funcao):\n",
        "  def wrapper(*args, **kwargs):\n",
        "    inicio = time.time()\n",
        "    resultado = funcao(*args, **kwargs)\n",
        "    fim = time.time()\n",
        "    print(f\"Tempo de execução: {fim - inicio} segundos.\")\n",
        "    return resultado\n",
        "  return wrapper\n",
        "\n",
        "\n",
        "#Fatorial\n",
        "@medir_tempo\n",
        "def fatorial(n: int) -> int:\n",
        "  if n == 0 or n == 1:\n",
        "    return 1\n",
        "  else:\n",
        "    return n * fatorial(n-1)\n",
        "\n",
        "#Uso\n",
        "print(fatorial(15))\n"
      ],
      "metadata": {
        "colab": {
          "base_uri": "https://localhost:8080/"
        },
        "id": "6znoNAVI_Sqj",
        "outputId": "f25b2bef-643b-474f-a568-601f90817266"
      },
      "execution_count": null,
      "outputs": [
        {
          "output_type": "stream",
          "name": "stdout",
          "text": [
            "Tempo de execução: 4.76837158203125e-07 segundos.\n",
            "Tempo de execução: 0.0019452571868896484 segundos.\n",
            "Tempo de execução: 0.002367258071899414 segundos.\n",
            "Tempo de execução: 0.0028467178344726562 segundos.\n",
            "Tempo de execução: 0.003936052322387695 segundos.\n",
            "Tempo de execução: 0.0044384002685546875 segundos.\n",
            "Tempo de execução: 0.004875659942626953 segundos.\n",
            "Tempo de execução: 0.005281925201416016 segundos.\n",
            "Tempo de execução: 0.005736351013183594 segundos.\n",
            "Tempo de execução: 0.005991697311401367 segundos.\n",
            "Tempo de execução: 0.0060214996337890625 segundos.\n",
            "Tempo de execução: 0.006042003631591797 segundos.\n",
            "Tempo de execução: 0.0060613155364990234 segundos.\n",
            "Tempo de execução: 0.006081104278564453 segundos.\n",
            "Tempo de execução: 0.006109476089477539 segundos.\n",
            "1307674368000\n"
          ]
        }
      ]
    }
  ]
}